{
  "nbformat": 4,
  "nbformat_minor": 0,
  "metadata": {
    "colab": {
      "name": "transformations_casptone.ipynb",
      "provenance": [],
      "collapsed_sections": [],
      "authorship_tag": "ABX9TyNU63AQtLdnsjYUtyrfCFnK",
      "include_colab_link": true
    },
    "kernelspec": {
      "name": "python3",
      "display_name": "Python 3"
    },
    "language_info": {
      "name": "python"
    }
  },
  "cells": [
    {
      "cell_type": "markdown",
      "metadata": {
        "id": "view-in-github",
        "colab_type": "text"
      },
      "source": [
        "<a href=\"https://colab.research.google.com/github/MauricioFBL/capstone_project/blob/main/notebooks/transformations_casptone.ipynb\" target=\"_parent\"><img src=\"https://colab.research.google.com/assets/colab-badge.svg\" alt=\"Open In Colab\"/></a>"
      ]
    },
    {
      "cell_type": "code",
      "execution_count": 1,
      "metadata": {
        "id": "TKVj2Uyd7Lt3"
      },
      "outputs": [],
      "source": [
        "%%capture\n",
        "!sudo apt update\n",
        "!apt-get install openjdk-8-jdk-headless -qq > /dev/null\n",
        "#!wget -q https://dlcdn.apache.org/spark/spark-3.2.1/spark-3.2.1-bin-hadoop3.2.tgz\n",
        "#!tar xf spark-3.2.1-bin-hadoop3.2.tgz\n",
        "!wget -q https://dlcdn.apache.org/spark/spark-3.2.2/spark-3.2.2-bin-hadoop3.2.tgz\n",
        "!tar xf spark-3.2.2-bin-hadoop3.2.tgz\n",
        "!pip install -q findspark\n",
        "!pip install pyspark\n",
        "import os\n",
        "os.environ[\"JAVA_HOME\"] = \"/usr/lib/jvm/java-8-openjdk-amd64\"\n",
        "#os.environ[\"SPARK_HOME\"] = \"/content/spark-3.2.1-bin-hadoop3.2\"\n",
        "os.environ[\"SPARK_HOME\"] = \"/content/spark-3.2.2-bin-hadoop3.2\"\n",
        "\n",
        "import findspark\n",
        "findspark.init()\n",
        "findspark.find()\n",
        "\n",
        "from pyspark.sql import DataFrame, SparkSession \n",
        "from pyspark.sql.functions import *\n",
        "\n",
        "\n",
        "spark = SparkSession \\\n",
        "       .builder \\\n",
        "       .appName(\"Our First Spark example\") \\\n",
        "       .getOrCreate()\n",
        "\n",
        "spark"
      ]
    },
    {
      "cell_type": "code",
      "source": [
        "from pyspark.ml.feature import Tokenizer, StopWordsRemover\n",
        "\n",
        "from pyspark.sql.functions import *"
      ],
      "metadata": {
        "id": "-043QK6FGZfW"
      },
      "execution_count": 9,
      "outputs": []
    },
    {
      "cell_type": "code",
      "source": [
        "movie_review_df = (spark\n",
        "    .read\n",
        "    .option(\"header\", \"true\")\n",
        "    .option(\"inferSchema\", \"true\")\n",
        "    .csv('movie_review.csv'))"
      ],
      "metadata": {
        "id": "9Vz_t_XH91r2"
      },
      "execution_count": 3,
      "outputs": []
    },
    {
      "cell_type": "code",
      "source": [
        "movie_review_df.show(5)"
      ],
      "metadata": {
        "colab": {
          "base_uri": "https://localhost:8080/"
        },
        "id": "OyxPG91v91u9",
        "outputId": "48f99b93-fe98-4a27-805b-0f48f5e1ea0b"
      },
      "execution_count": 4,
      "outputs": [
        {
          "output_type": "stream",
          "name": "stdout",
          "text": [
            "+-----+--------------------+---------+\n",
            "|  cid|          review_str|id_review|\n",
            "+-----+--------------------+---------+\n",
            "|13756|Once again Mr. Co...|        1|\n",
            "|15738|This is an exampl...|        2|\n",
            "|15727|First of all I ha...|        3|\n",
            "|17954|Not even the Beat...|        4|\n",
            "|16579|Brass pictures (m...|        5|\n",
            "+-----+--------------------+---------+\n",
            "only showing top 5 rows\n",
            "\n"
          ]
        }
      ]
    },
    {
      "cell_type": "code",
      "source": [
        "tokenizer = Tokenizer(inputCol='review_str', outputCol='Words')\n",
        "movie_review_df = tokenizer.transform(movie_review_df)\n",
        "movie_review_df.show(5)"
      ],
      "metadata": {
        "colab": {
          "base_uri": "https://localhost:8080/"
        },
        "id": "_PySkN8fBaIE",
        "outputId": "284463b3-6b3b-48e5-a918-edb41fe2e904"
      },
      "execution_count": 5,
      "outputs": [
        {
          "output_type": "stream",
          "name": "stdout",
          "text": [
            "+-----+--------------------+---------+--------------------+\n",
            "|  cid|          review_str|id_review|               Words|\n",
            "+-----+--------------------+---------+--------------------+\n",
            "|13756|Once again Mr. Co...|        1|[once, again, mr....|\n",
            "|15738|This is an exampl...|        2|[this, is, an, ex...|\n",
            "|15727|First of all I ha...|        3|[first, of, all, ...|\n",
            "|17954|Not even the Beat...|        4|[not, even, the, ...|\n",
            "|16579|Brass pictures (m...|        5|[brass, pictures,...|\n",
            "+-----+--------------------+---------+--------------------+\n",
            "only showing top 5 rows\n",
            "\n"
          ]
        }
      ]
    },
    {
      "cell_type": "code",
      "source": [
        "\n",
        "remover = StopWordsRemover(inputCol='Words', outputCol='words_filtered')\n",
        "movie_review_df = remover.transform(movie_review_df)\n",
        "movie_review_df.show(5)"
      ],
      "metadata": {
        "colab": {
          "base_uri": "https://localhost:8080/"
        },
        "id": "0CQ9NznpBaNo",
        "outputId": "fb874763-8756-4d6a-e9cf-41f8c379798d"
      },
      "execution_count": 6,
      "outputs": [
        {
          "output_type": "stream",
          "name": "stdout",
          "text": [
            "+-----+--------------------+---------+--------------------+--------------------+\n",
            "|  cid|          review_str|id_review|               Words|      words_filtered|\n",
            "+-----+--------------------+---------+--------------------+--------------------+\n",
            "|13756|Once again Mr. Co...|        1|[once, again, mr....|[mr., costner, dr...|\n",
            "|15738|This is an exampl...|        2|[this, is, an, ex...|[example, majorit...|\n",
            "|15727|First of all I ha...|        3|[first, of, all, ...|[first, hate, mor...|\n",
            "|17954|Not even the Beat...|        4|[not, even, the, ...|[even, beatles, w...|\n",
            "|16579|Brass pictures (m...|        5|[brass, pictures,...|[brass, pictures,...|\n",
            "+-----+--------------------+---------+--------------------+--------------------+\n",
            "only showing top 5 rows\n",
            "\n"
          ]
        }
      ]
    },
    {
      "cell_type": "code",
      "source": [
        "movie_review_df.printSchema()"
      ],
      "metadata": {
        "colab": {
          "base_uri": "https://localhost:8080/"
        },
        "id": "DospRWnWBaqp",
        "outputId": "895c4cbb-f53c-4709-844a-dc030b1d123a"
      },
      "execution_count": 7,
      "outputs": [
        {
          "output_type": "stream",
          "name": "stdout",
          "text": [
            "root\n",
            " |-- cid: integer (nullable = true)\n",
            " |-- review_str: string (nullable = true)\n",
            " |-- id_review: integer (nullable = true)\n",
            " |-- Words: array (nullable = true)\n",
            " |    |-- element: string (containsNull = true)\n",
            " |-- words_filtered: array (nullable = true)\n",
            " |    |-- element: string (containsNull = true)\n",
            "\n"
          ]
        }
      ]
    },
    {
      "cell_type": "code",
      "source": [
        ""
      ],
      "metadata": {
        "id": "os2fbU1mJGEx"
      },
      "execution_count": null,
      "outputs": []
    },
    {
      "cell_type": "code",
      "source": [
        "movie_review_df = movie_review_df.withColumn(\"positive_review\",when(array_contains(col(\"words_filtered\"),\"good\"),1).otherwise(0))\n",
        "movie_review_df.show(5)"
      ],
      "metadata": {
        "colab": {
          "base_uri": "https://localhost:8080/"
        },
        "id": "tGyvFNfKBauU",
        "outputId": "2540ecf9-e424-495e-8d12-d11cb8c98ec6"
      },
      "execution_count": 10,
      "outputs": [
        {
          "output_type": "stream",
          "name": "stdout",
          "text": [
            "+-----+--------------------+---------+--------------------+--------------------+---------------+\n",
            "|  cid|          review_str|id_review|               Words|      words_filtered|positive_review|\n",
            "+-----+--------------------+---------+--------------------+--------------------+---------------+\n",
            "|13756|Once again Mr. Co...|        1|[once, again, mr....|[mr., costner, dr...|              0|\n",
            "|15738|This is an exampl...|        2|[this, is, an, ex...|[example, majorit...|              0|\n",
            "|15727|First of all I ha...|        3|[first, of, all, ...|[first, hate, mor...|              0|\n",
            "|17954|Not even the Beat...|        4|[not, even, the, ...|[even, beatles, w...|              0|\n",
            "|16579|Brass pictures (m...|        5|[brass, pictures,...|[brass, pictures,...|              1|\n",
            "+-----+--------------------+---------+--------------------+--------------------+---------------+\n",
            "only showing top 5 rows\n",
            "\n"
          ]
        }
      ]
    },
    {
      "cell_type": "code",
      "source": [
        "# dt.datetime.now()\n",
        "movie_review_df = movie_review_df.withColumn('insert_date ', current_timestamp())\n",
        "movie_review_df.show(5)"
      ],
      "metadata": {
        "colab": {
          "base_uri": "https://localhost:8080/"
        },
        "id": "piIzFDmOKj_-",
        "outputId": "bb1b32a2-a3ff-4c21-9015-64bb90f9afe9"
      },
      "execution_count": 11,
      "outputs": [
        {
          "output_type": "stream",
          "name": "stdout",
          "text": [
            "+-----+--------------------+---------+--------------------+--------------------+---------------+--------------------+\n",
            "|  cid|          review_str|id_review|               Words|      words_filtered|positive_review|        insert_date |\n",
            "+-----+--------------------+---------+--------------------+--------------------+---------------+--------------------+\n",
            "|13756|Once again Mr. Co...|        1|[once, again, mr....|[mr., costner, dr...|              0|2022-07-25 13:35:...|\n",
            "|15738|This is an exampl...|        2|[this, is, an, ex...|[example, majorit...|              0|2022-07-25 13:35:...|\n",
            "|15727|First of all I ha...|        3|[first, of, all, ...|[first, hate, mor...|              0|2022-07-25 13:35:...|\n",
            "|17954|Not even the Beat...|        4|[not, even, the, ...|[even, beatles, w...|              0|2022-07-25 13:35:...|\n",
            "|16579|Brass pictures (m...|        5|[brass, pictures,...|[brass, pictures,...|              1|2022-07-25 13:35:...|\n",
            "+-----+--------------------+---------+--------------------+--------------------+---------------+--------------------+\n",
            "only showing top 5 rows\n",
            "\n"
          ]
        }
      ]
    },
    {
      "cell_type": "code",
      "source": [
        ""
      ],
      "metadata": {
        "id": "fg2Qk8L3KXLX"
      },
      "execution_count": null,
      "outputs": []
    },
    {
      "cell_type": "code",
      "source": [
        "moviereviews = movie_review_df.drop('review_str','Words','words_filtered')"
      ],
      "metadata": {
        "id": "C5tWbD7mKR4Y"
      },
      "execution_count": 12,
      "outputs": []
    },
    {
      "cell_type": "code",
      "source": [
        "moviereviews.show(5)"
      ],
      "metadata": {
        "colab": {
          "base_uri": "https://localhost:8080/"
        },
        "id": "PdF97fhkLuEb",
        "outputId": "1ce29d75-3cbc-4a2a-a210-07fce7d49b3d"
      },
      "execution_count": 13,
      "outputs": [
        {
          "output_type": "stream",
          "name": "stdout",
          "text": [
            "+-----+---------+---------------+--------------------+\n",
            "|  cid|id_review|positive_review|        insert_date |\n",
            "+-----+---------+---------------+--------------------+\n",
            "|13756|        1|              0|2022-07-25 13:35:...|\n",
            "|15738|        2|              0|2022-07-25 13:35:...|\n",
            "|15727|        3|              0|2022-07-25 13:35:...|\n",
            "|17954|        4|              0|2022-07-25 13:35:...|\n",
            "|16579|        5|              1|2022-07-25 13:35:...|\n",
            "+-----+---------+---------------+--------------------+\n",
            "only showing top 5 rows\n",
            "\n"
          ]
        }
      ]
    },
    {
      "cell_type": "code",
      "source": [
        "moviereviews.write.mode('overwrite').csv('clean_movie_revies.csv')"
      ],
      "metadata": {
        "id": "WvLVLFmjknFN"
      },
      "execution_count": 14,
      "outputs": []
    },
    {
      "cell_type": "markdown",
      "source": [
        "# Log transformations"
      ],
      "metadata": {
        "id": "e4PNGWmGKCQk"
      }
    },
    {
      "cell_type": "code",
      "source": [
        "log_review_df = (spark\n",
        "    .read\n",
        "    .option(\"header\", \"true\")\n",
        "    .option(\"inferSchema\", \"true\")\n",
        "    .csv('log_reviews.csv'))\n",
        "log_review_df.show(10)"
      ],
      "metadata": {
        "colab": {
          "base_uri": "https://localhost:8080/"
        },
        "id": "tzMCif6FS5Tm",
        "outputId": "91ad6e80-8f98-433d-aa1e-7353eee5c7da"
      },
      "execution_count": 16,
      "outputs": [
        {
          "output_type": "stream",
          "name": "stdout",
          "text": [
            "+---------+--------------------+\n",
            "|id_review|                 log|\n",
            "+---------+--------------------+\n",
            "|        1|<reviewlog><log><...|\n",
            "|        2|<reviewlog><log><...|\n",
            "|        3|<reviewlog><log><...|\n",
            "|        4|<reviewlog><log><...|\n",
            "|        5|<reviewlog><log><...|\n",
            "|        6|<reviewlog><log><...|\n",
            "|        7|<reviewlog><log><...|\n",
            "|        8|<reviewlog><log><...|\n",
            "|        9|<reviewlog><log><...|\n",
            "|       10|<reviewlog><log><...|\n",
            "+---------+--------------------+\n",
            "only showing top 10 rows\n",
            "\n"
          ]
        }
      ]
    },
    {
      "cell_type": "code",
      "source": [
        "log_review_df = log_review_df.withColumn('log', regexp_replace(\n",
        "    'log', '<reviewlog><log><logDate>', '')).withColumn('log', regexp_replace(\n",
        "    'log', '</phoneNumber></log></reviewlog>', ''))\n",
        "log_review_df.show(5)"
      ],
      "metadata": {
        "colab": {
          "base_uri": "https://localhost:8080/"
        },
        "id": "2pg6GXSGpcJD",
        "outputId": "cf15f830-0c28-42e3-d92e-934a4317ad2d"
      },
      "execution_count": 17,
      "outputs": [
        {
          "output_type": "stream",
          "name": "stdout",
          "text": [
            "+---------+--------------------+\n",
            "|id_review|                 log|\n",
            "+---------+--------------------+\n",
            "|        1|04-25-2021</logDa...|\n",
            "|        2|03-13-2021</logDa...|\n",
            "|        3|09-30-2021</logDa...|\n",
            "|        4|05-24-2021</logDa...|\n",
            "|        5|02-01-2021</logDa...|\n",
            "+---------+--------------------+\n",
            "only showing top 5 rows\n",
            "\n"
          ]
        }
      ]
    },
    {
      "cell_type": "code",
      "source": [
        "log_review_df = log_review_df.withColumn(\n",
        "    'log_date', split(log_review_df['log'], \n",
        "                      '</logDate><device>').getItem(0))\n",
        "log_review_df.show(5)"
      ],
      "metadata": {
        "colab": {
          "base_uri": "https://localhost:8080/"
        },
        "id": "qWu2ij5Uufhm",
        "outputId": "17fca56b-7d39-4a5e-8855-f914dcea8a3c"
      },
      "execution_count": 18,
      "outputs": [
        {
          "output_type": "stream",
          "name": "stdout",
          "text": [
            "+---------+--------------------+----------+\n",
            "|id_review|                 log|  log_date|\n",
            "+---------+--------------------+----------+\n",
            "|        1|04-25-2021</logDa...|04-25-2021|\n",
            "|        2|03-13-2021</logDa...|03-13-2021|\n",
            "|        3|09-30-2021</logDa...|09-30-2021|\n",
            "|        4|05-24-2021</logDa...|05-24-2021|\n",
            "|        5|02-01-2021</logDa...|02-01-2021|\n",
            "+---------+--------------------+----------+\n",
            "only showing top 5 rows\n",
            "\n"
          ]
        }
      ]
    },
    {
      "cell_type": "code",
      "source": [
        "log_review_df = log_review_df.withColumn(\n",
        "    'device_drop', split(log_review_df['log'], \n",
        "                      '</device><location>').getItem(0)\n",
        "    )\n",
        "log_review_df = log_review_df.withColumn(\n",
        "    'device', split(log_review_df['device_drop'], \n",
        "                      '</logDate><device>').getItem(1)\n",
        "    )\n",
        "\n",
        "log_review_df.show(5)"
      ],
      "metadata": {
        "colab": {
          "base_uri": "https://localhost:8080/"
        },
        "id": "3Ane1AgDuflk",
        "outputId": "148992aa-ddb7-4e67-a960-af16c3289f88"
      },
      "execution_count": 19,
      "outputs": [
        {
          "output_type": "stream",
          "name": "stdout",
          "text": [
            "+---------+--------------------+----------+--------------------+------+\n",
            "|id_review|                 log|  log_date|         device_drop|device|\n",
            "+---------+--------------------+----------+--------------------+------+\n",
            "|        1|04-25-2021</logDa...|04-25-2021|04-25-2021</logDa...|Mobile|\n",
            "|        2|03-13-2021</logDa...|03-13-2021|03-13-2021</logDa...|Tablet|\n",
            "|        3|09-30-2021</logDa...|09-30-2021|09-30-2021</logDa...|Tablet|\n",
            "|        4|05-24-2021</logDa...|05-24-2021|05-24-2021</logDa...|Tablet|\n",
            "|        5|02-01-2021</logDa...|02-01-2021|02-01-2021</logDa...|Tablet|\n",
            "+---------+--------------------+----------+--------------------+------+\n",
            "only showing top 5 rows\n",
            "\n"
          ]
        }
      ]
    },
    {
      "cell_type": "code",
      "source": [
        "log_review_df = log_review_df.withColumn(\n",
        "    'device_drop', split(log_review_df['log'], \n",
        "                      '</location><os>').getItem(0)\n",
        "    )\n",
        "log_review_df = log_review_df.withColumn(\n",
        "    'location', split(log_review_df['device_drop'], \n",
        "                      '</device><location>').getItem(1)\n",
        "    )\n",
        "\n",
        "log_review_df.show(5)"
      ],
      "metadata": {
        "colab": {
          "base_uri": "https://localhost:8080/"
        },
        "id": "1GYsNPstufrW",
        "outputId": "fc3131f2-869f-4f53-ad3f-e553ecfd109f"
      },
      "execution_count": 20,
      "outputs": [
        {
          "output_type": "stream",
          "name": "stdout",
          "text": [
            "+---------+--------------------+----------+--------------------+------+-------------+\n",
            "|id_review|                 log|  log_date|         device_drop|device|     location|\n",
            "+---------+--------------------+----------+--------------------+------+-------------+\n",
            "|        1|04-25-2021</logDa...|04-25-2021|04-25-2021</logDa...|Mobile|       Kansas|\n",
            "|        2|03-13-2021</logDa...|03-13-2021|03-13-2021</logDa...|Tablet|       Oregon|\n",
            "|        3|09-30-2021</logDa...|09-30-2021|09-30-2021</logDa...|Tablet|    Minnesota|\n",
            "|        4|05-24-2021</logDa...|05-24-2021|05-24-2021</logDa...|Tablet|     Arkansas|\n",
            "|        5|02-01-2021</logDa...|02-01-2021|02-01-2021</logDa...|Tablet|New Hampshire|\n",
            "+---------+--------------------+----------+--------------------+------+-------------+\n",
            "only showing top 5 rows\n",
            "\n"
          ]
        }
      ]
    },
    {
      "cell_type": "code",
      "source": [
        "log_review_df = log_review_df.withColumn(\n",
        "    'device_drop', split(log_review_df['log'], \n",
        "                      '</os><ipAddress>').getItem(0)\n",
        "    )\n",
        "log_review_df = log_review_df.withColumn(\n",
        "    'os', split(log_review_df['device_drop'], \n",
        "                      '</location><os>').getItem(1)\n",
        "    )\n",
        "\n",
        "log_review_df.show(5)"
      ],
      "metadata": {
        "colab": {
          "base_uri": "https://localhost:8080/"
        },
        "id": "tNsVnImdyFwS",
        "outputId": "8420665a-01bf-42b3-9b7e-3d416b00f9f4"
      },
      "execution_count": 21,
      "outputs": [
        {
          "output_type": "stream",
          "name": "stdout",
          "text": [
            "+---------+--------------------+----------+--------------------+------+-------------+--------------+\n",
            "|id_review|                 log|  log_date|         device_drop|device|     location|            os|\n",
            "+---------+--------------------+----------+--------------------+------+-------------+--------------+\n",
            "|        1|04-25-2021</logDa...|04-25-2021|04-25-2021</logDa...|Mobile|       Kansas|     Apple iOS|\n",
            "|        2|03-13-2021</logDa...|03-13-2021|03-13-2021</logDa...|Tablet|       Oregon|Google Android|\n",
            "|        3|09-30-2021</logDa...|09-30-2021|09-30-2021</logDa...|Tablet|    Minnesota|     Apple iOS|\n",
            "|        4|05-24-2021</logDa...|05-24-2021|05-24-2021</logDa...|Tablet|     Arkansas|   Apple MacOS|\n",
            "|        5|02-01-2021</logDa...|02-01-2021|02-01-2021</logDa...|Tablet|New Hampshire|         Linux|\n",
            "+---------+--------------------+----------+--------------------+------+-------------+--------------+\n",
            "only showing top 5 rows\n",
            "\n"
          ]
        }
      ]
    },
    {
      "cell_type": "code",
      "source": [
        "log_review_df = log_review_df.withColumn(\n",
        "    'phoneNumber', split(log_review_df['log'], \n",
        "                      '</ipAddress><phoneNumber>').getItem(1)\n",
        "    )\n",
        "# log_review_df = log_review_df.withColumn(\n",
        "#     'ipAddress', split(log_review_df['device_drop'], \n",
        "#                       '</os><ipAddress>').getItem(1)\n",
        "#     )\n",
        "\n",
        "log_review_df.show(5)"
      ],
      "metadata": {
        "colab": {
          "base_uri": "https://localhost:8080/"
        },
        "id": "3590DiqPzilT",
        "outputId": "fc65e682-130e-4efe-d697-d90405f65cd6"
      },
      "execution_count": 22,
      "outputs": [
        {
          "output_type": "stream",
          "name": "stdout",
          "text": [
            "+---------+--------------------+----------+--------------------+------+-------------+--------------+------------+\n",
            "|id_review|                 log|  log_date|         device_drop|device|     location|            os| phoneNumber|\n",
            "+---------+--------------------+----------+--------------------+------+-------------+--------------+------------+\n",
            "|        1|04-25-2021</logDa...|04-25-2021|04-25-2021</logDa...|Mobile|       Kansas|     Apple iOS|821-540-5777|\n",
            "|        2|03-13-2021</logDa...|03-13-2021|03-13-2021</logDa...|Tablet|       Oregon|Google Android|819-102-1320|\n",
            "|        3|09-30-2021</logDa...|09-30-2021|09-30-2021</logDa...|Tablet|    Minnesota|     Apple iOS|989-156-0498|\n",
            "|        4|05-24-2021</logDa...|05-24-2021|05-24-2021</logDa...|Tablet|     Arkansas|   Apple MacOS|225-837-9935|\n",
            "|        5|02-01-2021</logDa...|02-01-2021|02-01-2021</logDa...|Tablet|New Hampshire|         Linux|243-842-4562|\n",
            "+---------+--------------------+----------+--------------------+------+-------------+--------------+------------+\n",
            "only showing top 5 rows\n",
            "\n"
          ]
        }
      ]
    },
    {
      "cell_type": "code",
      "source": [
        ""
      ],
      "metadata": {
        "id": "GJz2q5XUziaX"
      },
      "execution_count": null,
      "outputs": []
    },
    {
      "cell_type": "code",
      "source": [
        "#____________________________________"
      ],
      "metadata": {
        "id": "sSXn7LEplOte"
      },
      "execution_count": null,
      "outputs": []
    },
    {
      "cell_type": "code",
      "source": [
        ""
      ],
      "metadata": {
        "id": "9BmKt1kNlOkt"
      },
      "execution_count": null,
      "outputs": []
    },
    {
      "cell_type": "code",
      "source": [
        "#   import com.databricks.spark.xml._\n",
        "#   import com.databricks.spark.xml.functions.from_xml\n",
        "\n",
        "#   val spark = SparkSession.builder().master(\"local[*]\").getOrCreate()\n",
        "#   import spark.implicits._\n",
        "#   spark.sparkContext.setLogLevel(\"ERROR\")\n",
        "\n",
        "#   val df = // Read csv file\n",
        "  \n",
        "#   // Assuming your xml content column name is xmldata\n",
        "#   val xmlSchema = schema_of_xml(df.select(\"xmldata\").as[String])\n",
        "\n",
        "#   df.withColumn(\"xmldata\", from_xml('xmldata, xmlSchema))\n",
        "#     .select(\"*\", \"xmldata.ab\")\n",
        "#     .selectExpr(df.columns.diff(Array(\"xmldata\")) ++\n",
        "#       Array(\"ab[0]._a as name\", \"ab[0]._b as id\", \"ab[1]._a as manager_name\", \"ab[1]._b as manager_id\"): _*)\n",
        "#     .show(false)"
      ],
      "metadata": {
        "id": "HaWxBN4EBa1j"
      },
      "execution_count": null,
      "outputs": []
    },
    {
      "cell_type": "code",
      "source": [
        "# !$SPARK_HOME/bin/spark-shell --packages com.databricks:spark-xml_2.12:0.15.0"
      ],
      "metadata": {
        "colab": {
          "base_uri": "https://localhost:8080/"
        },
        "id": "Wy8a9dHlPYCp",
        "outputId": "226083c6-c1a4-4cfc-ff3f-70934b240fc3"
      },
      "execution_count": null,
      "outputs": [
        {
          "output_type": "stream",
          "name": "stdout",
          "text": [
            ":: loading settings :: url = jar:file:/content/spark-3.2.2-bin-hadoop3.2/jars/ivy-2.5.0.jar!/org/apache/ivy/core/settings/ivysettings.xml\n",
            "Ivy Default Cache set to: /root/.ivy2/cache\n",
            "The jars for the packages stored in: /root/.ivy2/jars\n",
            "com.databricks#spark-xml_2.12 added as a dependency\n",
            ":: resolving dependencies :: org.apache.spark#spark-submit-parent-c1fc4ee6-2798-4c49-83ff-ad94decf51a8;1.0\n",
            "\tconfs: [default]\n",
            "\tfound com.databricks#spark-xml_2.12;0.15.0 in central\n",
            "\tfound commons-io#commons-io;2.11.0 in central\n",
            "\tfound org.glassfish.jaxb#txw2;3.0.2 in central\n",
            "\tfound org.apache.ws.xmlschema#xmlschema-core;2.3.0 in central\n",
            "downloading https://repo1.maven.org/maven2/com/databricks/spark-xml_2.12/0.15.0/spark-xml_2.12-0.15.0.jar ...\n",
            "\t[SUCCESSFUL ] com.databricks#spark-xml_2.12;0.15.0!spark-xml_2.12.jar (44ms)\n",
            "downloading https://repo1.maven.org/maven2/commons-io/commons-io/2.11.0/commons-io-2.11.0.jar ...\n",
            "\t[SUCCESSFUL ] commons-io#commons-io;2.11.0!commons-io.jar (38ms)\n",
            "downloading https://repo1.maven.org/maven2/org/glassfish/jaxb/txw2/3.0.2/txw2-3.0.2.jar ...\n",
            "\t[SUCCESSFUL ] org.glassfish.jaxb#txw2;3.0.2!txw2.jar (22ms)\n",
            "downloading https://repo1.maven.org/maven2/org/apache/ws/xmlschema/xmlschema-core/2.3.0/xmlschema-core-2.3.0.jar ...\n",
            "\t[SUCCESSFUL ] org.apache.ws.xmlschema#xmlschema-core;2.3.0!xmlschema-core.jar(bundle) (29ms)\n",
            ":: resolution report :: resolve 4942ms :: artifacts dl 153ms\n",
            "\t:: modules in use:\n",
            "\tcom.databricks#spark-xml_2.12;0.15.0 from central in [default]\n",
            "\tcommons-io#commons-io;2.11.0 from central in [default]\n",
            "\torg.apache.ws.xmlschema#xmlschema-core;2.3.0 from central in [default]\n",
            "\torg.glassfish.jaxb#txw2;3.0.2 from central in [default]\n",
            "\t---------------------------------------------------------------------\n",
            "\t|                  |            modules            ||   artifacts   |\n",
            "\t|       conf       | number| search|dwnlded|evicted|| number|dwnlded|\n",
            "\t---------------------------------------------------------------------\n",
            "\t|      default     |   4   |   4   |   4   |   0   ||   4   |   4   |\n",
            "\t---------------------------------------------------------------------\n",
            ":: retrieving :: org.apache.spark#spark-submit-parent-c1fc4ee6-2798-4c49-83ff-ad94decf51a8\n",
            "\tconfs: [default]\n",
            "\t4 artifacts copied, 0 already retrieved (717kB/35ms)\n",
            "22/07/23 18:08:49 WARN NativeCodeLoader: Unable to load native-hadoop library for your platform... using builtin-java classes where applicable\n",
            "Using Spark's default log4j profile: org/apache/spark/log4j-defaults.properties\n",
            "Setting default log level to \"WARN\".\n",
            "To adjust logging level use sc.setLogLevel(newLevel). For SparkR, use setLogLevel(newLevel).\n",
            "22/07/23 18:09:01 WARN Utils: Service 'SparkUI' could not bind on port 4040. Attempting port 4041.\n",
            "Spark context Web UI available at http://f6fccfaaac10:4041\n",
            "Spark context available as 'sc' (master = local[*], app id = local-1658599741630).\n",
            "Spark session available as 'spark'.\n",
            "Welcome to\n",
            "      ____              __\n",
            "     / __/__  ___ _____/ /__\n",
            "    _\\ \\/ _ \\/ _ `/ __/  '_/\n",
            "   /___/ .__/\\_,_/_/ /_/\\_\\   version 3.2.2\n",
            "      /_/\n",
            "         \n",
            "Using Scala version 2.12.15 (OpenJDK 64-Bit Server VM, Java 1.8.0_312)\n",
            "Type in expressions to have them evaluated.\n",
            "Type :help for more information.\n",
            "\u001b[35m\n",
            "scala> \u001b[0m\n",
            "\u001b[35m\n",
            "scala> \u001b[0m\n",
            "\u001b[35m\n",
            "scala> \u001b[0mexit()\n",
            "<console>:23: \u001b[31merror: \u001b[0mnot found: value exit\n",
            "       exit()\n",
            "       ^\n",
            "\u001b[35m\n",
            "scala> \u001b[0mexit\n",
            "<console>:23: \u001b[31merror: \u001b[0mnot found: value exit\n",
            "       exit\n",
            "       ^\n",
            "\u001b[35m\n",
            "scala> \u001b[0m:q\n"
          ]
        }
      ]
    },
    {
      "cell_type": "code",
      "source": [
        "# import os\n",
        "# os.environ['PYSPARK_SUBMIT_ARGS'] = '--packages com.databricks:spark-xml_2.12:0.12.0 pyspark-shell'"
      ],
      "metadata": {
        "id": "pIqyYu3ARRYX"
      },
      "execution_count": null,
      "outputs": []
    },
    {
      "cell_type": "code",
      "source": [
        "# import databricks.spark.xml\n",
        "# import databricks.spark.xml.functions.from_xml\n",
        "# from pyspark"
      ],
      "metadata": {
        "id": "CuwLTlx0Ba4P"
      },
      "execution_count": null,
      "outputs": []
    },
    {
      "cell_type": "code",
      "source": [
        "\n",
        "from pyspark.sql.types import *"
      ],
      "metadata": {
        "id": "Wk6_NDd1SLCT"
      },
      "execution_count": null,
      "outputs": []
    },
    {
      "cell_type": "code",
      "source": [
        "# from pyspark.sql import SparkSession\n",
        "# from pyspark.sql.types import StructType, StructField, StringType, IntegerType\n",
        "# from pyspark.sql.functions import *\n",
        "# from decimal import Decimal\n",
        "# appName = \"Python Example - PySpark Read XML\"\n",
        "# master = \"local\"\n",
        "\n",
        "# # Create Spark session\n",
        "# spark_2 = SparkSession.builder \\\n",
        "#     .appName(appName) \\\n",
        "#     .master(master) \\\n",
        "#     .config(\"spark.jars.packages\", \"com.databricks:spark-xml_2.11:0.9.0\") \\\n",
        "#     .getOrCreate()"
      ],
      "metadata": {
        "id": "n8wDa4hJS5Zr"
      },
      "execution_count": null,
      "outputs": []
    },
    {
      "cell_type": "code",
      "source": [
        "customSchema = StructType([\n",
        "    StructField(\"logDate\", StringType(), True),\n",
        "    StructField(\"device\", StringType(), True),\n",
        "    StructField(\"location\", StringType(), True),\n",
        "    StructField(\"os\", StringType(), True),\n",
        "    StructField(\"ipAddress\", StringType(), True),\n",
        "    StructField(\"phoneNumber\", StringType(), True)])"
      ],
      "metadata": {
        "id": "3oEKjdiglxsV"
      },
      "execution_count": null,
      "outputs": []
    },
    {
      "cell_type": "code",
      "source": [
        "sourceDf = spark.read.csv('log_reviews.csv', sep=',', header=True, inferSchema=True, multiLine=True)\n",
        "sourceDf.show(5)"
      ],
      "metadata": {
        "colab": {
          "base_uri": "https://localhost:8080/"
        },
        "id": "jinFiiPRBayO",
        "outputId": "7ff03f2f-bcbc-48eb-841a-1f37bd27531d"
      },
      "execution_count": 23,
      "outputs": [
        {
          "output_type": "stream",
          "name": "stdout",
          "text": [
            "+---------+--------------------+\n",
            "|id_review|                 log|\n",
            "+---------+--------------------+\n",
            "|        1|<reviewlog><log><...|\n",
            "|        2|<reviewlog><log><...|\n",
            "|        3|<reviewlog><log><...|\n",
            "|        4|<reviewlog><log><...|\n",
            "|        5|<reviewlog><log><...|\n",
            "+---------+--------------------+\n",
            "only showing top 5 rows\n",
            "\n"
          ]
        }
      ]
    },
    {
      "cell_type": "code",
      "source": [
        "# xmlfile = sourceDf.select('log')\n",
        "# xmlfile.show(5)"
      ],
      "metadata": {
        "colab": {
          "base_uri": "https://localhost:8080/"
        },
        "id": "Nwc1JwI_okqB",
        "outputId": "5b08509d-1dab-4701-d889-2e5c8d092ff4"
      },
      "execution_count": null,
      "outputs": [
        {
          "output_type": "stream",
          "name": "stdout",
          "text": [
            "+--------------------+\n",
            "|                 log|\n",
            "+--------------------+\n",
            "|<reviewlog><log><...|\n",
            "|<reviewlog><log><...|\n",
            "|<reviewlog><log><...|\n",
            "|<reviewlog><log><...|\n",
            "|<reviewlog><log><...|\n",
            "+--------------------+\n",
            "only showing top 5 rows\n",
            "\n"
          ]
        }
      ]
    },
    {
      "cell_type": "code",
      "source": [
        "sourceDf = sourceDf.withColumn('log', regexp_replace(\n",
        "    'log', '<reviewlog><log><logDate>', '')).withColumn('log', regexp_replace(\n",
        "    'log', '</phoneNumber></log></reviewlog>', ''))\n",
        "\n",
        "log_review_df_2 = sourceDf.withColumn('log', regexp_replace(\n",
        "    'log', '\\<(.*?)\\>', ';')).withColumn('log', regexp_replace(\n",
        "    'log', ';;', ';'))\n",
        "\n",
        "log_review_df_2 = log_review_df_2.withColumn(\n",
        "    'log_date', split(log_review_df_2['log'], \n",
        "                      ';').getItem(0))\n",
        "log_review_df_2 = log_review_df_2.withColumn(\n",
        "    'device', split(log_review_df_2['log'], \n",
        "                      ';').getItem(1))\n",
        "log_review_df_2 = log_review_df_2.withColumn(\n",
        "    'location', split(log_review_df_2['log'], \n",
        "                      ';').getItem(2))\n",
        "log_review_df_2 = log_review_df_2.withColumn(\n",
        "    'os', split(log_review_df_2['log'], \n",
        "                      ';').getItem(3))\n",
        "log_review_df_2 = log_review_df_2.withColumn(\n",
        "    'ip_address', split(log_review_df_2['log'], \n",
        "                      ';').getItem(4))\n",
        "log_review_df_2 = log_review_df_2.withColumn(\n",
        "    'phoneNumber', split(log_review_df_2['log'], \n",
        "                      ';').getItem(5))\n",
        "\n",
        "\n",
        "log_review_df_2.show(5)"
      ],
      "metadata": {
        "colab": {
          "base_uri": "https://localhost:8080/"
        },
        "id": "ozwjM3tHyFtO",
        "outputId": "1126bce6-65da-4924-c385-6400d5630bce"
      },
      "execution_count": 29,
      "outputs": [
        {
          "output_type": "stream",
          "name": "stdout",
          "text": [
            "+---------+--------------------+----------+------+-------------+--------------+------------+------------+\n",
            "|id_review|                 log|  log_date|device|     location|            os|  ip_address| phoneNumber|\n",
            "+---------+--------------------+----------+------+-------------+--------------+------------+------------+\n",
            "|        1|04-25-2021;Mobile...|04-25-2021|Mobile|       Kansas|     Apple iOS|9.200.232.57|821-540-5777|\n",
            "|        2|03-13-2021;Tablet...|03-13-2021|Tablet|       Oregon|Google Android|9.200.232.57|819-102-1320|\n",
            "|        3|09-30-2021;Tablet...|09-30-2021|Tablet|    Minnesota|     Apple iOS|9.200.232.57|989-156-0498|\n",
            "|        4|05-24-2021;Tablet...|05-24-2021|Tablet|     Arkansas|   Apple MacOS|9.200.232.57|225-837-9935|\n",
            "|        5|02-01-2021;Tablet...|02-01-2021|Tablet|New Hampshire|         Linux|9.200.232.57|243-842-4562|\n",
            "+---------+--------------------+----------+------+-------------+--------------+------------+------------+\n",
            "only showing top 5 rows\n",
            "\n"
          ]
        }
      ]
    },
    {
      "cell_type": "code",
      "source": [
        "log_review_df_2 = log_review_df_2.drop('log')"
      ],
      "metadata": {
        "id": "Vv6RsUi2ufzC"
      },
      "execution_count": 30,
      "outputs": []
    },
    {
      "cell_type": "code",
      "source": [
        "log_review_df_2.show(5)"
      ],
      "metadata": {
        "colab": {
          "base_uri": "https://localhost:8080/"
        },
        "id": "B19r2WZRpCSq",
        "outputId": "3d9a1cf2-a518-4e31-b479-6870b48949d2"
      },
      "execution_count": 31,
      "outputs": [
        {
          "output_type": "stream",
          "name": "stdout",
          "text": [
            "+---------+----------+------+-------------+--------------+------------+------------+\n",
            "|id_review|  log_date|device|     location|            os|  ip_address| phoneNumber|\n",
            "+---------+----------+------+-------------+--------------+------------+------------+\n",
            "|        1|04-25-2021|Mobile|       Kansas|     Apple iOS|9.200.232.57|821-540-5777|\n",
            "|        2|03-13-2021|Tablet|       Oregon|Google Android|9.200.232.57|819-102-1320|\n",
            "|        3|09-30-2021|Tablet|    Minnesota|     Apple iOS|9.200.232.57|989-156-0498|\n",
            "|        4|05-24-2021|Tablet|     Arkansas|   Apple MacOS|9.200.232.57|225-837-9935|\n",
            "|        5|02-01-2021|Tablet|New Hampshire|         Linux|9.200.232.57|243-842-4562|\n",
            "+---------+----------+------+-------------+--------------+------------+------------+\n",
            "only showing top 5 rows\n",
            "\n"
          ]
        }
      ]
    },
    {
      "cell_type": "code",
      "source": [
        "log_review_df_2.write.mode('overwrite').csv('clean_log_reviews.csv')"
      ],
      "metadata": {
        "id": "qSXg8oVDoqKM"
      },
      "execution_count": 32,
      "outputs": []
    },
    {
      "cell_type": "code",
      "source": [
        "log_review_df_2.write.format('csv').save('mycsv.csv')"
      ],
      "metadata": {
        "id": "agzn92uVp_9h"
      },
      "execution_count": 34,
      "outputs": []
    },
    {
      "cell_type": "code",
      "source": [
        "# xmlSchema = spark.read.format('xml').options(rowTag='log').load(log_review_df.select(\"log\"))\n",
        "df = (spark.read.format(\"com.databricks.spark.xml\"\n",
        "              ).option(\"rowTag\",\"log\"\n",
        "              ).load(log_review_df.select(\"log\"), \n",
        "                     schema=customSchema))"
      ],
      "metadata": {
        "id": "tkFd8p5Vp44X"
      },
      "execution_count": null,
      "outputs": []
    },
    {
      "cell_type": "code",
      "source": [
        ""
      ],
      "metadata": {
        "id": "0fVHe6YVS5Gt"
      },
      "execution_count": null,
      "outputs": []
    },
    {
      "cell_type": "code",
      "source": [
        "log_review_df = (spark\n",
        "    .read\n",
        "    .option(\"header\", \"true\")\n",
        "    .option(\"inferSchema\", \"true\")\n",
        "    .csv('log_reviews.csv'))\n",
        "log_review_df.show(10)"
      ],
      "metadata": {
        "colab": {
          "base_uri": "https://localhost:8080/"
        },
        "outputId": "84b3a103-84c6-49f2-f47a-647ef1cdeed1",
        "id": "x99tkGVIWOh5"
      },
      "execution_count": null,
      "outputs": [
        {
          "output_type": "stream",
          "name": "stdout",
          "text": [
            "+---------+--------------------+\n",
            "|id_review|                 log|\n",
            "+---------+--------------------+\n",
            "|        1|<reviewlog><log><...|\n",
            "|        2|<reviewlog><log><...|\n",
            "|        3|<reviewlog><log><...|\n",
            "|        4|<reviewlog><log><...|\n",
            "|        5|<reviewlog><log><...|\n",
            "|        6|<reviewlog><log><...|\n",
            "|        7|<reviewlog><log><...|\n",
            "|        8|<reviewlog><log><...|\n",
            "|        9|<reviewlog><log><...|\n",
            "|       10|<reviewlog><log><...|\n",
            "+---------+--------------------+\n",
            "only showing top 10 rows\n",
            "\n"
          ]
        }
      ]
    },
    {
      "cell_type": "code",
      "source": [
        "\n",
        "\n",
        "#   df.withColumn(\"xmldata\", from_xml('xmldata, xmlSchema))\n",
        "#     .select(\"*\", \"xmldata.ab\")\n",
        "#     .selectExpr(df.columns.diff(Array(\"xmldata\")) ++\n",
        "#       Array(\"ab[0]._a as name\", \"ab[0]._b as id\", \"ab[1]._a as manager_name\", \"ab[1]._b as manager_id\"): _*)\n",
        "#     .show(false)"
      ],
      "metadata": {
        "id": "ercOKyRKBa7O"
      },
      "execution_count": null,
      "outputs": []
    },
    {
      "cell_type": "code",
      "source": [
        ""
      ],
      "metadata": {
        "id": "PKAq0DGwBa_e"
      },
      "execution_count": null,
      "outputs": []
    },
    {
      "cell_type": "code",
      "source": [
        "user_purchase_df = (spark\n",
        "    .read\n",
        "    .option(\"header\", \"true\")\n",
        "    .option(\"inferSchema\", \"true\")\n",
        "    .csv('user_purchase.csv'))"
      ],
      "metadata": {
        "id": "uWz_ANBT905b"
      },
      "execution_count": null,
      "outputs": []
    },
    {
      "cell_type": "code",
      "source": [
        "user_purchase_df.show(5)"
      ],
      "metadata": {
        "colab": {
          "base_uri": "https://localhost:8080/"
        },
        "id": "X1P6cabs90-i",
        "outputId": "646be2fa-eb4e-4c9c-8a0a-08b5e99e7a26"
      },
      "execution_count": null,
      "outputs": [
        {
          "output_type": "stream",
          "name": "stdout",
          "text": [
            "+---------+---------+--------------------+--------+--------------+---------+----------+--------------+\n",
            "|InvoiceNo|StockCode|         Description|Quantity|   InvoiceDate|UnitPrice|CustomerID|       Country|\n",
            "+---------+---------+--------------------+--------+--------------+---------+----------+--------------+\n",
            "|   536365|   85123A|WHITE HANGING HEA...|       6|12/1/2010 8:26|     2.55|     17850|United Kingdom|\n",
            "|   536365|    71053| WHITE METAL LANTERN|       6|12/1/2010 8:26|     3.39|     17850|United Kingdom|\n",
            "|   536365|   84406B|CREAM CUPID HEART...|       8|12/1/2010 8:26|     2.75|     17850|United Kingdom|\n",
            "|   536365|   84029G|KNITTED UNION FLA...|       6|12/1/2010 8:26|     3.39|     17850|United Kingdom|\n",
            "|   536365|   84029E|RED WOOLLY HOTTIE...|       6|12/1/2010 8:26|     3.39|     17850|United Kingdom|\n",
            "+---------+---------+--------------------+--------+--------------+---------+----------+--------------+\n",
            "only showing top 5 rows\n",
            "\n"
          ]
        }
      ]
    },
    {
      "cell_type": "code",
      "source": [
        ""
      ],
      "metadata": {
        "id": "ZLdWg3IV91Dq"
      },
      "execution_count": null,
      "outputs": []
    },
    {
      "cell_type": "code",
      "source": [
        ""
      ],
      "metadata": {
        "id": "rUdtxzJu91He"
      },
      "execution_count": null,
      "outputs": []
    }
  ]
}